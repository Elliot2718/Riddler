{
 "cells": [
  {
   "cell_type": "markdown",
   "id": "bb36ae2e-4f3e-4296-a330-6f5149bb0524",
   "metadata": {},
   "source": [
    "# Ridder Game of Dice\n",
    "https://fivethirtyeight.com/features/can-you-score-some-basketball-tickets/"
   ]
  },
  {
   "cell_type": "code",
   "execution_count": 1,
   "id": "f0b1fb73-4447-4d63-801d-76bca89d00a6",
   "metadata": {},
   "outputs": [],
   "source": [
    "import math\n",
    "\n",
    "from itertools import combinations, product\n",
    "from pprint import pprint"
   ]
  },
  {
   "cell_type": "markdown",
   "id": "d5e03617-2bdb-4f10-8d93-90a8f14afa5d",
   "metadata": {},
   "source": [
    "## Planning\n",
    "\n",
    "Define a role to be a tuple of length four, e.g. (6,3,5,1), equivalent to a single roll of four dice. Create a list called `rolls` of all possible roll sets. This list should have length 6**4 = 1296.\n",
    "\n",
    "There are 6 possible sums of two dice for each roll, in this example the sums are (9,11,7,8,4,6). Create a list of these roll sum sets. This list should have length 1296.\n",
    "\n",
    "Then create a list of all possible guess sets, where each guess set has four numbers and the numbers range from 2 to 12. There should be 11 choose 4 combinations in this set, so 330.\n",
    "\n",
    "Then for each guess set, loop through the roll sum sets and check if any of the guesses is in each roll sum set. Calculate the percentage of roll sum sets each guess set is in. The guess set with the highest percentage is the best guess."
   ]
  },
  {
   "cell_type": "code",
   "execution_count": 2,
   "id": "ca4f124c-b41a-49f3-bfca-3aae19bcb213",
   "metadata": {},
   "outputs": [
    {
     "data": {
      "text/plain": [
       "330"
      ]
     },
     "execution_count": 2,
     "metadata": {},
     "output_type": "execute_result"
    }
   ],
   "source": [
    "math.comb(11,4)"
   ]
  },
  {
   "cell_type": "markdown",
   "id": "15a28477-a43d-4ede-9d90-69a5bbbbe2b3",
   "metadata": {},
   "source": [
    "## Work"
   ]
  },
  {
   "cell_type": "markdown",
   "id": "9ca2fe4d-391e-4dc9-8048-d7b0dfed8160",
   "metadata": {},
   "source": [
    "### Create a list of all possible rolls"
   ]
  },
  {
   "cell_type": "code",
   "execution_count": 3,
   "id": "f6c7d161-2347-40f8-9409-8f2ad5d85efd",
   "metadata": {},
   "outputs": [],
   "source": [
    "rolls = list(product(range(1,7), repeat = 4))"
   ]
  },
  {
   "cell_type": "code",
   "execution_count": 4,
   "id": "37863f25-a228-4020-98ec-df54dbcde734",
   "metadata": {},
   "outputs": [
    {
     "data": {
      "text/plain": [
       "[(1, 1, 1, 1),\n",
       " (1, 1, 1, 2),\n",
       " (1, 1, 1, 3),\n",
       " (1, 1, 1, 4),\n",
       " (1, 1, 1, 5),\n",
       " (1, 1, 1, 6),\n",
       " (1, 1, 2, 1),\n",
       " (1, 1, 2, 2),\n",
       " (1, 1, 2, 3),\n",
       " (1, 1, 2, 4)]"
      ]
     },
     "execution_count": 4,
     "metadata": {},
     "output_type": "execute_result"
    }
   ],
   "source": [
    "rolls[0:10]"
   ]
  },
  {
   "cell_type": "code",
   "execution_count": 5,
   "id": "f69bb4be-6c4a-40a5-b74b-f878d5bb395b",
   "metadata": {},
   "outputs": [
    {
     "data": {
      "text/plain": [
       "1296"
      ]
     },
     "execution_count": 5,
     "metadata": {},
     "output_type": "execute_result"
    }
   ],
   "source": [
    "len(rolls)"
   ]
  },
  {
   "cell_type": "markdown",
   "id": "77f55d75-6422-4dbc-a4a3-bf848093f95e",
   "metadata": {},
   "source": [
    "### Create a list of sums for each roll"
   ]
  },
  {
   "cell_type": "code",
   "execution_count": 6,
   "id": "f98bc063-d869-4c9b-b4e1-da37470f5a80",
   "metadata": {},
   "outputs": [],
   "source": [
    "sums = [[sum(combo) for combo in combinations(roll, r = 2)] for roll in rolls]"
   ]
  },
  {
   "cell_type": "code",
   "execution_count": 7,
   "id": "1670509e-dd67-459f-b858-2e742f385ebf",
   "metadata": {},
   "outputs": [
    {
     "data": {
      "text/plain": [
       "[[2, 2, 2, 2, 2, 2],\n",
       " [2, 2, 3, 2, 3, 3],\n",
       " [2, 2, 4, 2, 4, 4],\n",
       " [2, 2, 5, 2, 5, 5],\n",
       " [2, 2, 6, 2, 6, 6],\n",
       " [2, 2, 7, 2, 7, 7],\n",
       " [2, 3, 2, 3, 2, 3],\n",
       " [2, 3, 3, 3, 3, 4],\n",
       " [2, 3, 4, 3, 4, 5],\n",
       " [2, 3, 5, 3, 5, 6]]"
      ]
     },
     "execution_count": 7,
     "metadata": {},
     "output_type": "execute_result"
    }
   ],
   "source": [
    "sums[:10]"
   ]
  },
  {
   "cell_type": "code",
   "execution_count": 8,
   "id": "fc5e3ab6-807b-49e5-a941-e5de85a1041f",
   "metadata": {},
   "outputs": [
    {
     "data": {
      "text/plain": [
       "1296"
      ]
     },
     "execution_count": 8,
     "metadata": {},
     "output_type": "execute_result"
    }
   ],
   "source": [
    "len(sums)"
   ]
  },
  {
   "cell_type": "markdown",
   "id": "4a8a1c03-d5a7-4750-8cc5-e16aa7c506f9",
   "metadata": {},
   "source": [
    "### Create a list of all possible guesses"
   ]
  },
  {
   "cell_type": "code",
   "execution_count": 9,
   "id": "6dc00572-8b6d-41f4-84b0-5c70176d9f6a",
   "metadata": {},
   "outputs": [],
   "source": [
    "guesses = list(combinations(range(2,13), r = 4))"
   ]
  },
  {
   "cell_type": "code",
   "execution_count": 10,
   "id": "36328410-b1b6-47a8-97ea-94b84ba38d77",
   "metadata": {},
   "outputs": [
    {
     "data": {
      "text/plain": [
       "[(2, 3, 4, 5),\n",
       " (2, 3, 4, 6),\n",
       " (2, 3, 4, 7),\n",
       " (2, 3, 4, 8),\n",
       " (2, 3, 4, 9),\n",
       " (2, 3, 4, 10),\n",
       " (2, 3, 4, 11),\n",
       " (2, 3, 4, 12),\n",
       " (2, 3, 5, 6),\n",
       " (2, 3, 5, 7)]"
      ]
     },
     "execution_count": 10,
     "metadata": {},
     "output_type": "execute_result"
    }
   ],
   "source": [
    "guesses[0:10]"
   ]
  },
  {
   "cell_type": "code",
   "execution_count": 11,
   "id": "71191907-3719-44fc-9cfb-15637c05e438",
   "metadata": {},
   "outputs": [
    {
     "data": {
      "text/plain": [
       "330"
      ]
     },
     "execution_count": 11,
     "metadata": {},
     "output_type": "execute_result"
    }
   ],
   "source": [
    "len(guesses)"
   ]
  },
  {
   "cell_type": "code",
   "execution_count": 12,
   "id": "c5257741-f4f8-4cb0-a376-1fce7495ae2c",
   "metadata": {},
   "outputs": [],
   "source": [
    "def correct_guess_percentage(guess, sums):\n",
    "    \"\"\"Calculates the percent of sum sets that contain one or more numbers from a guess\"\"\"\n",
    "    correct_guess = tuple(any(n in roll_sum for n in guess) for roll_sum in sums)\n",
    "    return sum(correct_guess) / len(sums)"
   ]
  },
  {
   "cell_type": "code",
   "execution_count": 13,
   "id": "330f8586-fcbd-4972-b549-5ece1650a1c4",
   "metadata": {},
   "outputs": [],
   "source": [
    "# Create a list of tuples containing the guess and the correct guess percentage\n",
    "guess_results = [(guess, correct_guess_percentage(guess, sums)) for guess in guesses]"
   ]
  },
  {
   "cell_type": "code",
   "execution_count": 14,
   "id": "a2e78180-8bc6-4dc1-9d41-ea5fbbfb6f98",
   "metadata": {},
   "outputs": [],
   "source": [
    "# Sort the results\n",
    "sorted_guess_results = sorted(guess_results, key=lambda guess: guess[1], reverse=True)"
   ]
  },
  {
   "cell_type": "code",
   "execution_count": 15,
   "id": "f559ae8d-14f9-4b0c-9863-962e5d7f6deb",
   "metadata": {},
   "outputs": [
    {
     "name": "stdout",
     "output_type": "stream",
     "text": [
      "[((4, 6, 8, 10), 0.9753086419753086),\n",
      " ((2, 6, 8, 10), 0.9614197530864198),\n",
      " ((4, 6, 8, 12), 0.9614197530864198),\n",
      " ((4, 6, 7, 9), 0.9552469135802469),\n",
      " ((5, 7, 8, 10), 0.9552469135802469),\n",
      " ((4, 7, 8, 9), 0.9537037037037037),\n",
      " ((5, 6, 7, 10), 0.9537037037037037),\n",
      " ((4, 6, 7, 8), 0.9529320987654321),\n",
      " ((4, 6, 7, 10), 0.9529320987654321),\n",
      " ((4, 7, 8, 10), 0.9529320987654321)]\n"
     ]
    }
   ],
   "source": [
    "pprint(sorted_guess_results[0:10])"
   ]
  },
  {
   "cell_type": "markdown",
   "id": "18964167-cedc-4198-9ac0-6466eaf9d58c",
   "metadata": {},
   "source": [
    "## Results\n",
    "I get that the best guess is (4,6,8,10) and should result in a win 97.5% of the time. I'm somewhat surprised that it doesn't contain 7, which is the most frequent combination of two dice. I think this is because we are choosing four numbers and so it is beneficial to spread out your guesses."
   ]
  }
 ],
 "metadata": {
  "kernelspec": {
   "display_name": "Python 3 (ipykernel)",
   "language": "python",
   "name": "python3"
  },
  "language_info": {
   "codemirror_mode": {
    "name": "ipython",
    "version": 3
   },
   "file_extension": ".py",
   "mimetype": "text/x-python",
   "name": "python",
   "nbconvert_exporter": "python",
   "pygments_lexer": "ipython3",
   "version": "3.8.10"
  }
 },
 "nbformat": 4,
 "nbformat_minor": 5
}
